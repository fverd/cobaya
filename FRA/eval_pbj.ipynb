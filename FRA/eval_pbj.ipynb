{
 "cells": [
  {
   "cell_type": "code",
   "execution_count": 39,
   "metadata": {},
   "outputs": [
    {
     "data": {
      "image/png": "[encoded data removed]",
      "text/plain": [
       "<Figure size 640x480 with 1 Axes>"
      ]
     },
     "metadata": {},
     "output_type": "display_data"
    }
   ],
   "source": [
    "import numpy as np\n",
    "\n",
    "import matplotlib.pyplot as plt\n",
    "from cobaya.yaml import yaml_load_file\n",
    "from cobaya.model import get_model\n",
    "%matplotlib inline\n",
    "# Load the data\n",
    "data = np.loadtxt('/home/fverdian/cobaya/FRA/Quijdata/quij_fid_11binning_P2_100.txt')\n",
    "kF=2*np.pi/1000\n",
    "kk = np.arange(kF,kF*73,kF)\n",
    "# Calculate the mean over the 1st axis\n",
    "mean_data = np.mean(data, axis=0)\n",
    "\n",
    "# Plot the mean data\n",
    "plt.loglog(kk,mean_data*(2*np.pi)**3)\n",
    "plt.xlabel('Index')\n",
    "plt.ylabel('Mean Value')\n",
    "plt.title('Mean over 1st Axis')\n",
    "plt.show()"
   ]
  },
  {
   "cell_type": "code",
   "execution_count": 5,
   "metadata": {},
   "outputs": [
    {
     "name": "stdout",
     "output_type": "stream",
     "text": [
      "[model] *WARNING* Ignored blocks/options: ['sampler', 'output']\n",
      "\u001b[1;32m[info] \u001b[00mThe linear power spectrum will be computed with bacco\n",
      "Loading linear emulator...\n",
      "[absl] Fingerprint not found. Saved model loading will continue.\n",
      "[absl] Fingerprint not found. Saved model loading will continue.\n"
     ]
    },
    {
     "name": "stderr",
     "output_type": "stream",
     "text": [
      "/home/fverdian/anaconda3/lib/python3.10/site-packages/sklearn/base.py:376: InconsistentVersionWarning: Trying to unpickle estimator PCA from version 1.0 when using version 1.5.2. This might lead to breaking code or invalid results. Use at your own risk. For more info please refer to:\n",
      "https://scikit-learn.org/stable/model_persistence.html#security-maintainability-limitations\n",
      "  warnings.warn(\n",
      "/home/fverdian/anaconda3/lib/python3.10/site-packages/sklearn/base.py:376: InconsistentVersionWarning: Trying to unpickle estimator StandardScaler from version 1.0 when using version 1.5.2. This might lead to breaking code or invalid results. Use at your own risk. For more info please refer to:\n",
      "https://scikit-learn.org/stable/model_persistence.html#security-maintainability-limitations\n",
      "  warnings.warn(\n",
      "/home/fverdian/anaconda3/lib/python3.10/site-packages/sklearn/base.py:376: InconsistentVersionWarning: Trying to unpickle estimator PCA from version 1.0 when using version 1.5.2. This might lead to breaking code or invalid results. Use at your own risk. For more info please refer to:\n",
      "https://scikit-learn.org/stable/model_persistence.html#security-maintainability-limitations\n",
      "  warnings.warn(\n",
      "/home/fverdian/anaconda3/lib/python3.10/site-packages/sklearn/base.py:376: InconsistentVersionWarning: Trying to unpickle estimator StandardScaler from version 1.0 when using version 1.5.2. This might lead to breaking code or invalid results. Use at your own risk. For more info please refer to:\n",
      "https://scikit-learn.org/stable/model_persistence.html#security-maintainability-limitations\n",
      "  warnings.warn(\n"
     ]
    },
    {
     "name": "stdout",
     "output_type": "stream",
     "text": [
      "Linear emulator loaded in memory.\n",
      "\u001b[1;32m[info] \u001b[00mInfrared resummation: True, kind: EH\n",
      "\u001b[1;32m[info] \u001b[00mAlcock-Paczynski distortions: False\n",
      "\u001b[1;32m[info] \u001b[00mBoxsize: 1000.0, grid properties: {'dk': 1, 'cf': 1, 'nbinsP': 72, 'nbinsB': 29}\n",
      "\u001b[1;32m[info] \u001b[00mUsing Effective binning.\n",
      "[root] Only the creation of a RealSpaceBispectrumEffectiveBinner is currently supported\n",
      "\u001b[1;32m[info] \u001b[00mObservables: ['P0', 'P2']\n",
      "\u001b[1;32m[info] \u001b[00mUsing covariance\n",
      "\u001b[1;32m[info] \u001b[00mUsing model_varied_cosmology as likelihood model function\n"
     ]
    }
   ],
   "source": [
    "info_from_yaml = yaml_load_file(\"/home/fverdian/cobaya/FRA/pbj_test.yaml\")\n",
    "model_pbj = get_model(info_from_yaml)"
   ]
  },
  {
   "cell_type": "code",
   "execution_count": 27,
   "metadata": {},
   "outputs": [
    {
     "name": "stdout",
     "output_type": "stream",
     "text": [
      "['__call__', '__class__', '__delattr__', '__dir__', '__doc__', '__eq__', '__format__', '__func__', '__ge__', '__get__', '__getattribute__', '__gt__', '__hash__', '__init__', '__init_subclass__', '__le__', '__lt__', '__ne__', '__new__', '__reduce__', '__reduce_ex__', '__repr__', '__self__', '__setattr__', '__sizeof__', '__str__', '__subclasshook__']\n"
     ]
    }
   ],
   "source": [
    "point_pbj = {'b1': 1.7}\n",
    "logposterior = model_pbj.logposterior(point_pbj, as_dict=True)\n",
    "Pk_theo = model_pbj\n",
    "print(dir(model_pbj.info))"
   ]
  },
  {
   "cell_type": "code",
   "execution_count": 19,
   "metadata": {},
   "outputs": [
    {
     "data": {
      "text/plain": [
       "['__annotations__',\n",
       " '__class__',\n",
       " '__delattr__',\n",
       " '__dict__',\n",
       " '__dir__',\n",
       " '__doc__',\n",
       " '__eq__',\n",
       " '__format__',\n",
       " '__ge__',\n",
       " '__getattr__',\n",
       " '__getattribute__',\n",
       " '__gt__',\n",
       " '__hash__',\n",
       " '__init__',\n",
       " '__init_subclass__',\n",
       " '__le__',\n",
       " '__lt__',\n",
       " '__module__',\n",
       " '__ne__',\n",
       " '__new__',\n",
       " '__reduce__',\n",
       " '__reduce_ex__',\n",
       " '__repr__',\n",
       " '__setattr__',\n",
       " '__sizeof__',\n",
       " '__str__',\n",
       " '__subclasshook__',\n",
       " '__weakref__',\n",
       " 'get_param',\n",
       " 'get_result',\n",
       " 'model',\n",
       " 'params',\n",
       " 'requirement_providers',\n",
       " 'set_current_input_params']"
      ]
     },
     "execution_count": 19,
     "metadata": {},
     "output_type": "execute_result"
    }
   ],
   "source": [
    "['__call__', '__class__', '__delattr__', '__dir__', '__doc__', '__eq__', '__format__', '__func__', '__ge__', '__get__', '__getattribute__', '__gt__', '__hash__', '__init__', '__init_subclass__', '__le__', '__lt__', '__ne__', '__new__', '__reduce__', '__reduce_ex__', '__repr__', '__self__', '__setattr__', '__sizeof__', '__str__', '__subclasshook__']"
   ]
  }
 ],
 "metadata": {
  "kernelspec": {
   "display_name": "base",
   "language": "python",
   "name": "python3"
  },
  "language_info": {
   "codemirror_mode": {
    "name": "ipython",
    "version": 3
   },
   "file_extension": ".py",
   "mimetype": "text/x-python",
   "name": "python",
   "nbconvert_exporter": "python",
   "pygments_lexer": "ipython3",
   "version": "3.10.13"
  }
 },
 "nbformat": 4,
 "nbformat_minor": 2
}
